{
 "cells": [
  {
   "cell_type": "code",
   "execution_count": 40,
   "metadata": {},
   "outputs": [
    {
     "name": "stdout",
     "output_type": "stream",
     "text": [
      "2023-12-18-10-44-58.jpg\n",
      "2023-12-18-10-44-52.jpg\n",
      "2023-12-18-10-44-55.jpg\n",
      "2023-12-18-10-45-00.jpg\n"
     ]
    }
   ],
   "source": [
    "#finds all .jpg files in a specified folder\n",
    "\n",
    "import os\n",
    "from os import listdir\n",
    "\n",
    "#change path for different folders\n",
    "path = \"/Users/chrisorear/Downloads/OneDrive_1_1-22-2024\"\n",
    "img_list = []\n",
    "file_list = os.listdir(path)\n",
    "for files in file_list:\n",
    "    if (files.endswith(\".jpg\")):\n",
    "        img = files\n",
    "        print(img)\n",
    "    "
   ]
  },
  {
   "cell_type": "code",
   "execution_count": 26,
   "metadata": {},
   "outputs": [
    {
     "ename": "TypeError",
     "evalue": "string indices must be integers, not 'str'",
     "output_type": "error",
     "traceback": [
      "\u001b[0;31m---------------------------------------------------------------------------\u001b[0m",
      "\u001b[0;31mTypeError\u001b[0m                                 Traceback (most recent call last)",
      "\u001b[1;32m/Users/chrisorear/Library/Mobile Documents/com~apple~CloudDocs/Desktop/GVA_project/imageimporter.ipynb Cell 2\u001b[0m line \u001b[0;36m5\n\u001b[1;32m      <a href='vscode-notebook-cell:/Users/chrisorear/Library/Mobile%20Documents/com~apple~CloudDocs/Desktop/GVA_project/imageimporter.ipynb#W3sZmlsZQ%3D%3D?line=2'>3</a>\u001b[0m i \u001b[39m=\u001b[39m \u001b[39m0\u001b[39m\n\u001b[1;32m      <a href='vscode-notebook-cell:/Users/chrisorear/Library/Mobile%20Documents/com~apple~CloudDocs/Desktop/GVA_project/imageimporter.ipynb#W3sZmlsZQ%3D%3D?line=3'>4</a>\u001b[0m \u001b[39mfor\u001b[39;00m i \u001b[39min\u001b[39;00m img_list:\n\u001b[0;32m----> <a href='vscode-notebook-cell:/Users/chrisorear/Library/Mobile%20Documents/com~apple~CloudDocs/Desktop/GVA_project/imageimporter.ipynb#W3sZmlsZQ%3D%3D?line=4'>5</a>\u001b[0m     plot\u001b[39m.\u001b[39mshow(img_list[i])\n",
      "\u001b[0;31mTypeError\u001b[0m: string indices must be integers, not 'str'"
     ]
    }
   ],
   "source": [
    "#import and show images as grayscale \n",
    "import matplotlib.pyplot as plot\n",
    "i = 0\n",
    "for i in img_list:\n",
    "    plot.show(img_list[i])"
   ]
  }
 ],
 "metadata": {
  "kernelspec": {
   "display_name": "Python 3",
   "language": "python",
   "name": "python3"
  },
  "language_info": {
   "codemirror_mode": {
    "name": "ipython",
    "version": 3
   },
   "file_extension": ".py",
   "mimetype": "text/x-python",
   "name": "python",
   "nbconvert_exporter": "python",
   "pygments_lexer": "ipython3",
   "version": "3.11.3"
  }
 },
 "nbformat": 4,
 "nbformat_minor": 2
}
